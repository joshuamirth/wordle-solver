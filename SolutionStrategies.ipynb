{
 "cells": [
  {
   "cell_type": "code",
   "execution_count": 1,
   "metadata": {},
   "outputs": [],
   "source": [
    "import wordle\n",
    "import matplotlib.pyplot as plt\n",
    "import numpy as np\n",
    "from random import choice"
   ]
  },
  {
   "cell_type": "markdown",
   "metadata": {},
   "source": [
    "## Baseline\n",
    "\n",
    "To establish a baseline, let's see how well we do playing a random word for each guess, subject to the condition that the word match all previous clues. This will converge as each clue limits the number of remaining options - in the worst possible case we end up with a set of anagrams from which we draw randomly until getting the right answer."
   ]
  },
  {
   "cell_type": "code",
   "execution_count": 5,
   "metadata": {},
   "outputs": [],
   "source": [
    "N = 1000\n",
    "rows = np.zeros(N, dtype='int')\n",
    "for i in range(N):\n",
    "    soln = choice(wordle.corpus)\n",
    "    game = wordle.Wordle(soln)\n",
    "    solver = wordle.RandomSolver()\n",
    "    rows[i] = game.autoplay(solver)"
   ]
  },
  {
   "cell_type": "code",
   "execution_count": 3,
   "metadata": {},
   "outputs": [],
   "source": [
    "def plot_results(rows):\n",
    "    # Histogram\n",
    "    fig, ax = plt.subplots()\n",
    "    ax.hist(rows, bins=list(range(1, max(rows))), density=True)\n",
    "    ax.set_title('Solution Distribution')\n",
    "    plt.show()\n",
    "    # Statistics:\n",
    "    print(f\"Winning percentage: \\t\\t{np.sum(rows < 7)/N :5.2%}\")\n",
    "    print(f\"3-row (or better) percentage: \\t{np.sum(rows <= 3)/N :5.2%}\")\n",
    "    print(f\"Average number of guesses: \\t{np.mean(rows) :5.2f}\")\n",
    "    print(f\"Median number of guesses: \\t{np.median(rows) :5.2f}\")\n",
    "    print(f\"Best game: \\t\\t\\t{np.min(rows) :5d}\")"
   ]
  },
  {
   "cell_type": "code",
   "execution_count": 6,
   "metadata": {},
   "outputs": [
    {
     "data": {
      "image/png": "[encoded data removed]",
      "text/plain": [
       "<Figure size 432x288 with 1 Axes>"
      ]
     },
     "metadata": {
      "needs_background": "light"
     },
     "output_type": "display_data"
    },
    {
     "name": "stdout",
     "output_type": "stream",
     "text": [
      "Winning percentage: \t\t84.60%\n",
      "3-row (or better) percentage: \t9.30%\n",
      "Average number of guesses: \t 5.12\n",
      "Median number of guesses: \t 5.00\n",
      "Best game: \t\t\t    2\n"
     ]
    }
   ],
   "source": [
    "plot_results(rows)"
   ]
  },
  {
   "cell_type": "markdown",
   "metadata": {},
   "source": [
    "This is actually pretty good! Of course, some percentage of the time there is a lucky guess (we could keep track of how many words were in the list when each guess was made to check this), but this shows that simply playing words matching the known clues reduces the possibilities to a singleton quickly enough to win most of the time."
   ]
  },
  {
   "cell_type": "markdown",
   "metadata": {},
   "source": [
    "## Probabilistic Approach\n",
    "\n",
    "The most obvious actual _strategy_ is to play words which uses more probable letters like \"e\" and \"t\" first. If we can eliminate one of these letters, than that reduces the word list more quickly than eliminating a less-common letter like \"j\". They are also more likely to be right, and right guesses reduce the word list faster than wrong ones.\n",
    "\n",
    " The naïve way to get the most-probably word is to define $P(\\alpha)$ by the number of occurrences of the letter $\\alpha$ in our corpus of words, divided by the total number of letters. Then we want to maximize the objective function:\n",
    "\n",
    "$$\n",
    "F\\left(\\{\\alpha_i\\}_{i=1}^5\\right) = \\prod_{i=1}^5 P(\\alpha_i)\n",
    "$$\n",
    "\n",
    "over all sequences of five letters in our corpus of words. The `MaxLikelihoodEstimator` implements this strategy."
   ]
  },
  {
   "cell_type": "code",
   "execution_count": 8,
   "metadata": {},
   "outputs": [],
   "source": [
    "N = 1000\n",
    "rows = np.zeros(N, dtype='int')\n",
    "for i in range(N):\n",
    "    soln = choice(wordle.corpus)\n",
    "    game = wordle.Wordle(soln)\n",
    "    solver = wordle.MaxLikelihoodSolver()\n",
    "    rows[i] = game.autoplay(solver)"
   ]
  },
  {
   "cell_type": "code",
   "execution_count": 9,
   "metadata": {},
   "outputs": [
    {
     "data": {
      "image/png": "[encoded data removed]",
      "text/plain": [
       "<Figure size 432x288 with 1 Axes>"
      ]
     },
     "metadata": {
      "needs_background": "light"
     },
     "output_type": "display_data"
    },
    {
     "name": "stdout",
     "output_type": "stream",
     "text": [
      "Winning percentage: \t\t68.30%\n",
      "3-row (or better) percentage: \t4.80%\n",
      "Average number of guesses: \t 5.93\n",
      "Median number of guesses: \t 6.00\n",
      "Best game: \t\t\t    2\n"
     ]
    }
   ],
   "source": [
    "plot_results(rows)"
   ]
  },
  {
   "cell_type": "markdown",
   "metadata": {},
   "source": [
    "This performs _worse_ than random chance! Why? Let's step through a game and see:"
   ]
  },
  {
   "cell_type": "code",
   "execution_count": 10,
   "metadata": {},
   "outputs": [
    {
     "name": "stdout",
     "output_type": "stream",
     "text": [
      "Correct! Puzzle completed in 5 guesses.\n",
      "Guesses: ['areae', 'salsa', 'stats', 'suant', 'scant']\n",
      "Clues: [[-1, 0, 0, 0, 0], [1, -1, 0, 0, 0], [1, -1, 1, 0, 0], [1, 0, 1, 1, 1], [1, 1, 1, 1, 1]]\n"
     ]
    },
    {
     "data": {
      "text/plain": [
       "5"
      ]
     },
     "execution_count": 10,
     "metadata": {},
     "output_type": "execute_result"
    }
   ],
   "source": [
    "game = wordle.Wordle('scant', verbose=True)\n",
    "solver = wordle.MaxLikelihoodSolver()\n",
    "game.autoplay(solver)"
   ]
  },
  {
   "cell_type": "markdown",
   "metadata": {},
   "source": [
    "The pattern here is pretty typical - letters like \"e\" and \"a\" are common, so the solver chooses words that uses them as much as possible, like \"areae\" (apparently a valid Scrabble play, but not really a normal word). But these words don't produces as much information gain as something like \"rates\" because they don't have as many distinct letters.\n",
    "\n",
    "We need to improve our model of probabilities beyond just \"frequency in the corpus\". Or we need an objective function that takes information content into account."
   ]
  }
 ],
 "metadata": {
  "interpreter": {
   "hash": "40d3a090f54c6569ab1632332b64b2c03c39dcf918b08424e98f38b5ae0af88f"
  },
  "kernelspec": {
   "display_name": "Python 3.8.8 64-bit ('base': conda)",
   "language": "python",
   "name": "python3"
  },
  "language_info": {
   "codemirror_mode": {
    "name": "ipython",
    "version": 3
   },
   "file_extension": ".py",
   "mimetype": "text/x-python",
   "name": "python",
   "nbconvert_exporter": "python",
   "pygments_lexer": "ipython3",
   "version": "3.8.8"
  },
  "orig_nbformat": 4
 },
 "nbformat": 4,
 "nbformat_minor": 2
}
